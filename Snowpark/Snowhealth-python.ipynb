{
 "cells": [
  {
   "cell_type": "markdown",
   "source": [
    "# 📱MyDay Snowpark Python Demo❄️\n",
    "☃️This Demo will use Snowpark to query Snowflake.\n",
    "\n",
    "☃️Train an ML Model.\n",
    "\n",
    "☃️Deploy ML Function to Snowflake."
   ],
   "metadata": {}
  },
  {
   "cell_type": "markdown",
   "source": [
    "# 🔌 Connect to Snowflake\n",
    "Below is how you connect to Snowflake"
   ],
   "metadata": {}
  },
  {
   "cell_type": "code",
   "execution_count": 1,
   "source": [
    "from snowflake.snowpark import Session\n",
    "from snowflake.snowpark.functions import udf\n",
    "from snowflake.snowpark.functions import col\n",
    "from snowflake.snowpark import functions as F\n",
    "from snowflake.snowpark.types import *\n",
    "\n",
    "# Connection parameters to Snowflake\n",
    "connection_parameters = {\n",
    "  \"account\": \"sfsenorthamerica-snowhealth\",\n",
    "  \"user\": \"USER_NAME\",\n",
    "  \"password\": \"SNOW_PASS\",\n",
    "  \"role\": \"SNOW_ROLE\",\n",
    "  \"database\":\"DB\",\n",
    "  \"warehouse\": \"WH\"\n",
    "}\n",
    "\n",
    "# Create snowflake session w/ login creds above\n",
    "session = Session.builder.configs(connection_parameters).create()\n",
    "\n",
    "print(session)\n"
   ],
   "outputs": [
    {
     "output_type": "stream",
     "name": "stdout",
     "text": [
      "<snowflake.snowpark.session.Session object at 0x7fbacdc86d00>\n"
     ]
    }
   ],
   "metadata": {}
  },
  {
   "cell_type": "markdown",
   "source": [
    "# 📝 Describe Snowflake Table\n",
    "Just about anything you can do via the Snowflake UI you can do via Snowpark + more.\n",
    "\n",
    "Train AI/ML Models\n",
    "\n",
    "Do python things\n",
    "\n",
    "etc"
   ],
   "metadata": {}
  },
  {
   "cell_type": "code",
   "execution_count": 2,
   "source": [
    "session.table(\"SNOWHEALTH.HK.DIETARYENERGY\").columns"
   ],
   "outputs": [
    {
     "output_type": "execute_result",
     "data": {
      "text/plain": [
       "['ID',\n",
       " 'VALUE',\n",
       " 'UNIT',\n",
       " 'UUID',\n",
       " 'APP',\n",
       " 'DEVICE',\n",
       " 'STARTTIME',\n",
       " 'ENDTIME',\n",
       " 'EXTERNALUUID',\n",
       " 'FOODIMAGENAME',\n",
       " 'FOODMEAL',\n",
       " 'FOODTYPE',\n",
       " 'FOODTYPEUUID',\n",
       " 'FOODUSDANUMBER']"
      ]
     },
     "metadata": {},
     "execution_count": 2
    }
   ],
   "metadata": {}
  },
  {
   "cell_type": "markdown",
   "source": [
    "# 🧮 Create Snowpark Dataframe\n",
    "Create a Snowflake Dataframe\n",
    "\n",
    "Below we are querying Snowflake - \n",
    "\n",
    "We are getting UserID, Date, time of day and Calories\n",
    "\n",
    "This is a table of calories collected by an iPhone diet tracking application and Snowflake MyDay iPhone App"
   ],
   "metadata": {}
  },
  {
   "cell_type": "code",
   "execution_count": 3,
   "source": [
    "meal_cals = session.table(\"SNOWHEALTH.HK.DIETARYENERGY\")\\\n",
    "        .select( col('ID'), F.to_date(col('STARTTIME')).name(\"DATE\"), F.to_time(col('STARTTIME')).name(\"TIME\"),\\\n",
    "            col('VALUE'))\\\n",
    "    .filter(col('VALUE') > 0)\\\n",
    "    .groupBy( col('ID'), col('DATE'), col('TIME') )\\\n",
    "    .agg([(col(\"VALUE\"), \"sum\")]).toDF('ID','DATE','TIME','CALS')\n",
    "\n",
    "meal_cals.show(10)"
   ],
   "outputs": [
    {
     "output_type": "stream",
     "name": "stdout",
     "text": [
      "--------------------------------------------\n",
      "|\"ID\"   |\"DATE\"      |\"TIME\"    |\"CALS\"    |\n",
      "--------------------------------------------\n",
      "|YBTSU  |2022-06-01  |09:00:00  |350.0     |\n",
      "|0AA7D  |2021-02-05  |08:00:00  |98.0      |\n",
      "|0AA7D  |2021-02-06  |08:51:08  |21.0      |\n",
      "|0AA7D  |2021-02-15  |16:00:00  |754.0     |\n",
      "|0AA7D  |2021-02-23  |11:00:00  |29.0      |\n",
      "|2243   |2021-02-16  |08:00:00  |300.0     |\n",
      "|1122   |2021-04-11  |19:59:40  |1080.0    |\n",
      "|1FEPQ  |2022-01-03  |09:00:00  |168.1698  |\n",
      "|1FEPQ  |2022-01-07  |12:00:00  |649.048   |\n",
      "|2243   |2021-04-11  |08:00:00  |357.0     |\n",
      "--------------------------------------------\n",
      "\n"
     ]
    }
   ],
   "metadata": {
    "scrolled": false
   }
  },
  {
   "cell_type": "markdown",
   "source": [
    "# 📑Pandas Data Frame - Load Scored Data\n",
    "The data we are importing has Macros (data which users are giving to us) and those inputs are pre-graded so we can train our model to predict future values."
   ],
   "metadata": {}
  },
  {
   "cell_type": "code",
   "execution_count": 4,
   "source": [
    "import pandas as pd\n",
    "grades = pd.read_csv('DietGraded.csv')\n",
    "grades.head()"
   ],
   "outputs": [
    {
     "output_type": "execute_result",
     "data": {
      "text/plain": [
       "   CAL_DIFF  CARBS  FAT  PROTEIN  CHOL  SALT  SUGAR  GRADE\n",
       "0       415    221   55      172  0.16  1.20   3.31      5\n",
       "1       556    271   66      208  0.25  1.87   7.62      5\n",
       "2       419    210   60      237  0.28  1.78   1.92      5\n",
       "3       555    264   66      171  0.09  1.79  18.75      5\n",
       "4       723    289   72      233  0.27  0.76  19.70      5"
      ],
      "text/html": [
       "<div>\n",
       "<style scoped>\n",
       "    .dataframe tbody tr th:only-of-type {\n",
       "        vertical-align: middle;\n",
       "    }\n",
       "\n",
       "    .dataframe tbody tr th {\n",
       "        vertical-align: top;\n",
       "    }\n",
       "\n",
       "    .dataframe thead th {\n",
       "        text-align: right;\n",
       "    }\n",
       "</style>\n",
       "<table border=\"1\" class=\"dataframe\">\n",
       "  <thead>\n",
       "    <tr style=\"text-align: right;\">\n",
       "      <th></th>\n",
       "      <th>CAL_DIFF</th>\n",
       "      <th>CARBS</th>\n",
       "      <th>FAT</th>\n",
       "      <th>PROTEIN</th>\n",
       "      <th>CHOL</th>\n",
       "      <th>SALT</th>\n",
       "      <th>SUGAR</th>\n",
       "      <th>GRADE</th>\n",
       "    </tr>\n",
       "  </thead>\n",
       "  <tbody>\n",
       "    <tr>\n",
       "      <th>0</th>\n",
       "      <td>415</td>\n",
       "      <td>221</td>\n",
       "      <td>55</td>\n",
       "      <td>172</td>\n",
       "      <td>0.16</td>\n",
       "      <td>1.20</td>\n",
       "      <td>3.31</td>\n",
       "      <td>5</td>\n",
       "    </tr>\n",
       "    <tr>\n",
       "      <th>1</th>\n",
       "      <td>556</td>\n",
       "      <td>271</td>\n",
       "      <td>66</td>\n",
       "      <td>208</td>\n",
       "      <td>0.25</td>\n",
       "      <td>1.87</td>\n",
       "      <td>7.62</td>\n",
       "      <td>5</td>\n",
       "    </tr>\n",
       "    <tr>\n",
       "      <th>2</th>\n",
       "      <td>419</td>\n",
       "      <td>210</td>\n",
       "      <td>60</td>\n",
       "      <td>237</td>\n",
       "      <td>0.28</td>\n",
       "      <td>1.78</td>\n",
       "      <td>1.92</td>\n",
       "      <td>5</td>\n",
       "    </tr>\n",
       "    <tr>\n",
       "      <th>3</th>\n",
       "      <td>555</td>\n",
       "      <td>264</td>\n",
       "      <td>66</td>\n",
       "      <td>171</td>\n",
       "      <td>0.09</td>\n",
       "      <td>1.79</td>\n",
       "      <td>18.75</td>\n",
       "      <td>5</td>\n",
       "    </tr>\n",
       "    <tr>\n",
       "      <th>4</th>\n",
       "      <td>723</td>\n",
       "      <td>289</td>\n",
       "      <td>72</td>\n",
       "      <td>233</td>\n",
       "      <td>0.27</td>\n",
       "      <td>0.76</td>\n",
       "      <td>19.70</td>\n",
       "      <td>5</td>\n",
       "    </tr>\n",
       "  </tbody>\n",
       "</table>\n",
       "</div>"
      ]
     },
     "metadata": {},
     "execution_count": 4
    }
   ],
   "metadata": {}
  },
  {
   "cell_type": "markdown",
   "source": [
    "###  Split Scored Diet (Grade) and Macro Data from Data Frame\n",
    "Create X and Y for Macros and Scores"
   ],
   "metadata": {}
  },
  {
   "cell_type": "code",
   "execution_count": 5,
   "source": [
    "x = grades.drop('GRADE', axis=1)\n",
    "y = grades['GRADE']"
   ],
   "outputs": [],
   "metadata": {}
  },
  {
   "cell_type": "markdown",
   "source": [
    "# 🦿 Train ML Model from Dataset Above"
   ],
   "metadata": {}
  },
  {
   "cell_type": "code",
   "execution_count": 6,
   "source": [
    "from sklearn.neural_network import MLPClassifier\n",
    "\n",
    "mlpc = MLPClassifier(hidden_layer_sizes = (10, 5), max_iter=2000)\n",
    "mlpc.fit(x.values, y.values)"
   ],
   "outputs": [
    {
     "output_type": "execute_result",
     "data": {
      "text/plain": [
       "MLPClassifier(hidden_layer_sizes=(10, 5), max_iter=2000)"
      ]
     },
     "metadata": {},
     "execution_count": 6
    }
   ],
   "metadata": {}
  },
  {
   "cell_type": "markdown",
   "source": [
    "# Pretend Predict"
   ],
   "metadata": {}
  },
  {
   "cell_type": "code",
   "execution_count": 7,
   "source": [
    "Test_Data = [-400, 200, 10, 1, 1, 1, 1]\n",
    "mlpc.predict( [Test_Data] )[0]"
   ],
   "outputs": [
    {
     "output_type": "execute_result",
     "data": {
      "text/plain": [
       "3"
      ]
     },
     "metadata": {},
     "execution_count": 7
    }
   ],
   "metadata": {}
  },
  {
   "cell_type": "markdown",
   "source": [
    "# ☁️ Deploy Model to Snowflake Data Cloud as a Python UDF\n",
    "Function is deployed to Snowflake as a Python User Defined Function (UDF)\n",
    "This UDF can be called via this python notebook or via Snowlake UI thru SQL\n",
    "\n",
    "Becuase the function runs on Snowflake it can run on any Virtual Warehouse on Snowflake.\n",
    "\n",
    "Eventually you can share this function - not yet though.\n"
   ],
   "metadata": {}
  },
  {
   "cell_type": "code",
   "execution_count": 11,
   "source": [
    "session.use_database(\"SH_MARIUS\")\n",
    "session.use_schema(\"GRADES\")\n",
    "\n",
    "\n",
    "@udf(name=\"GRADES.PREDICT_DIET_NEUTRAL_NEW\", \n",
    "     return_type=IntegerType(), \n",
    "     packages=[\"scikit-learn\"],\n",
    "     is_permanent=True, replace=True, \n",
    "     stage_location=\"@GRADES.HEALTH_STAGE\",\n",
    "     input_types=[FloatType(), FloatType(), FloatType(),FloatType(), FloatType(), FloatType(), FloatType(), FloatType()])\n",
    "\n",
    "def PREDICT_DIET_NEUTRAL_NEW(calAte, calBurn, carbs, fat, protein, chol, salt, sugar):\n",
    "    return mlpc.predict( [[calAte - calBurn, carbs, fat, protein, chol, salt, sugar]] )[0]\n",
    "\n",
    "print(PREDICT_DIET_NEUTRAL_NEW)\n",
    "\n"
   ],
   "outputs": [
    {
     "output_type": "stream",
     "name": "stdout",
     "text": [
      "<snowflake.snowpark.udf.UserDefinedFunction object at 0x7fbab92087c0>\n"
     ]
    }
   ],
   "metadata": {}
  },
  {
   "cell_type": "markdown",
   "source": [
    "### Run UDF"
   ],
   "metadata": {}
  },
  {
   "cell_type": "code",
   "execution_count": null,
   "source": [
    "session.sql(\"select SNOWHEALTH.GRADES.PREDICT_DIET_NEUTRAL(1,1,1,1,1,1,1,1)\").collect()"
   ],
   "outputs": [],
   "metadata": {}
  },
  {
   "cell_type": "code",
   "execution_count": null,
   "source": [],
   "outputs": [],
   "metadata": {}
  },
  {
   "cell_type": "code",
   "execution_count": null,
   "source": [],
   "outputs": [],
   "metadata": {}
  },
  {
   "cell_type": "code",
   "execution_count": null,
   "source": [],
   "outputs": [],
   "metadata": {}
  },
  {
   "cell_type": "code",
   "execution_count": null,
   "source": [],
   "outputs": [],
   "metadata": {}
  }
 ],
 "metadata": {
  "kernelspec": {
   "display_name": "Python 3 (ipykernel)",
   "language": "python",
   "name": "python3"
  },
  "language_info": {
   "codemirror_mode": {
    "name": "ipython",
    "version": 3
   },
   "file_extension": ".py",
   "mimetype": "text/x-python",
   "name": "python",
   "nbconvert_exporter": "python",
   "pygments_lexer": "ipython3",
   "version": "3.8.10"
  }
 },
 "nbformat": 4,
 "nbformat_minor": 5
}